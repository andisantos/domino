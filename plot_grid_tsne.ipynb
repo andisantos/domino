{
 "cells": [
  {
   "cell_type": "code",
   "execution_count": 1,
   "id": "6fd8abbf-2a1e-4eed-838a-33db372e2aec",
   "metadata": {},
   "outputs": [],
   "source": [
    "# !pip install matplotlib"
   ]
  },
  {
   "cell_type": "code",
   "execution_count": 2,
   "id": "4e99d4e9-1eb0-4864-9f53-05da2fbae6f7",
   "metadata": {},
   "outputs": [],
   "source": [
    "from sklearn.manifold import TSNE\n",
    "import numpy as np\n",
    "\n",
    "import pandas as pd\n",
    "import matplotlib.pyplot as plt\n",
    "import random\n",
    "from scipy.spatial.distance import cdist\n",
    "from scipy.optimize import linear_sum_assignment\n",
    "from dataloader_places_diff import PlacesDataset\n",
    "from PIL import Image\n"
   ]
  },
  {
   "cell_type": "code",
   "execution_count": 3,
   "id": "f0476bf7-1241-42f7-ad7f-c4368f612079",
   "metadata": {},
   "outputs": [],
   "source": [
    "def gen_tsne(predict, clip_emb, plot_n = None, n = 3):\n",
    "    cluster_label = np.argmax(predict, axis = -1)\n",
    "    print(cluster_label.shape)\n",
    "    label, counts = np.unique(cluster_label, return_counts = True)\n",
    "    print(label, counts)\n",
    "    counts = min(counts)\n",
    "\n",
    "    if plot_n != None:\n",
    "            counts = plot_n\n",
    "    random.seed(42)\n",
    "    \n",
    "    filter_0 = random.sample(list(np.where(cluster_label == 0)[0]), counts)\n",
    "    filter_1 = random.sample(list(np.where(cluster_label == 1)[0]), counts)\n",
    "    filtered_clip_embeds = clip_emb[filter_0]\n",
    "    filtered_labels = cluster_label[filter_0]\n",
    "    filtered_clip_embeds = np.concatenate((filtered_clip_embeds, clip_emb[filter_1]))\n",
    "    filtered_labels = np.concatenate((filtered_labels, cluster_label[filter_1]))\n",
    "    if n == 3:\n",
    "        filter_2 = random.sample(list(np.where(cluster_label == 2)[0]), counts)\n",
    "        filtered_clip_embeds = np.concatenate((filtered_clip_embeds, clip_emb[filter_2]))\n",
    "        filtered_labels = np.concatenate((filtered_labels, cluster_label[filter_2]))\n",
    "    X_embedded = TSNE(n_components=2, learning_rate='auto', \n",
    "                      init='random', perplexity=3).fit_transform(filtered_clip_embeds)\n",
    "    X_embedded.shape\n",
    "    tsne_result_df = pd.DataFrame({'component1': X_embedded[:,0],\n",
    "                                   'component2': X_embedded[:,1],\n",
    "                                   'label': filtered_labels})\n",
    "    tsne_result_df.to_csv('outputs/plot_tsne/tsne_components-childs_room.csv', index=False)\n",
    "    return X_embedded"
   ]
  },
  {
   "cell_type": "code",
   "execution_count": 4,
   "id": "718df3a2-ddc1-4e1b-a2d5-c081597644a8",
   "metadata": {},
   "outputs": [
    {
     "name": "stdout",
     "output_type": "stream",
     "text": [
      "(141861,)\n",
      "[0 1 2] [ 11329 100086  30446]\n"
     ]
    }
   ],
   "source": [
    "clip_emb_1 = np.load(\"data/places8_image_features_clip_class_1.npy\") #bedroom\n",
    "# df = pd.read_csv(\"outputs/places8_bedroom_childs_room/class1_bedroom_3slices_otherclassessoftmax.csv\", index_col=0)\n",
    "\n",
    "clip_emb_2 = np.load(\"data/places8_image_features_clip_class_2.npy\") #childs room\n",
    "# df = pd.read_csv(\"outputs/places8_bedroom_childs_room/class2_childs_room_3slices_otherclassessoftmax.csv\", index_col=0)\n",
    "\n",
    "clip_embeds = np.concatenate([clip_emb_1, clip_emb_2])\n",
    "df = pd.read_csv(\"outputs/places8_bedroom_childs_room/class2_childs_room_3slices_2classes_softmax.csv\")\n",
    "tsne_results = gen_tsne(df.to_numpy(), clip_embeds, n = 3)"
   ]
  },
  {
   "cell_type": "code",
   "execution_count": 5,
   "id": "d5006300-2d90-42ed-aa10-b052d03adb24",
   "metadata": {},
   "outputs": [
    {
     "name": "stdout",
     "output_type": "stream",
     "text": [
      "Found 141861 images from 2 classes.\n",
      "    Class 'bedroom' (1): 100012 images.\n",
      "    Class 'childs_room' (2): 41849 images.\n",
      "(141861, 3, 64, 64)\n",
      "(141861, 64, 64, 3)\n"
     ]
    }
   ],
   "source": [
    "dataset = PlacesDataset(\"data/Places8_paths_and_labels_complete_train.npy\", onlylabels=[1,2])\n",
    "dataloader = dataset.get_loader(False, 128, 4)\n",
    "imgs_bedroom = []\n",
    "for [imgs_0, _, _] in dataloader:\n",
    "    imgs_0 = imgs_0.cpu().data.numpy()\n",
    "    imgs_bedroom += list(imgs_0)\n",
    "\n",
    "imgs_bedroom = np.asarray(imgs_bedroom)\n",
    "print(imgs_bedroom.shape)\n",
    "imgs_bedroom_out = [np.moveaxis(x, 0, -1) for x in imgs_bedroom]\n",
    "imgs_bedroom_out = np.asarray(imgs_bedroom_out)\n",
    "print(imgs_bedroom_out.shape)"
   ]
  },
  {
   "cell_type": "code",
   "execution_count": null,
   "id": "029dd40f-79a5-4f63-a581-14eb591a1309",
   "metadata": {},
   "outputs": [],
   "source": [
    "sel_tsne = tsne_results\n",
    "out_dim = int(np.ceil(np.sqrt(sel_tsne.shape[0])))\n",
    "out_res = 64\n",
    "# rows = int(np.ceil(x_data.shape[0] * 1. / cols))\n",
    "grid = np.dstack(np.meshgrid(np.linspace(0, 1, out_dim), np.linspace(0, 1, out_dim))).reshape(-1, 2)\n",
    "cost_matrix = cdist(grid, sel_tsne, \"sqeuclidean\").astype(np.float32)\n",
    "cost_matrix = cost_matrix * (100000 / cost_matrix.max())\n",
    "\n",
    "row_asses, col_asses = linear_sum_assignment(cost_matrix)"
   ]
  },
  {
   "cell_type": "code",
   "execution_count": null,
   "id": "3a089a88-76f7-4023-84c9-6024b9d14ed7",
   "metadata": {},
   "outputs": [],
   "source": [
    "grid_jv = grid[col_asses]\n",
    "out = np.ones((out_dim * out_res, out_dim * out_res, 3))\n",
    "\n",
    "for pos, img in zip(grid_jv, imgs_bedroom_out):\n",
    "    h_range = int(np.floor(pos[0] * (out_dim - 1) * out_res))\n",
    "    w_range = int(np.floor(pos[1] * (out_dim - 1) * out_res))\n",
    "    out[h_range:h_range + out_res, w_range:w_range + out_res] = img\n",
    "\n",
    "im = Image.fromarray(np.uint8(out * 255))\n",
    "image_grid_plot_file = 'outputs/plot_tsne/tsne-image-grid-plot-class_childs_room.png'\n",
    "im.save(image_grid_plot_file)"
   ]
  },
  {
   "cell_type": "code",
   "execution_count": null,
   "id": "a6564e96-2b64-4045-b985-3ddbd37804a5",
   "metadata": {},
   "outputs": [],
   "source": []
  }
 ],
 "metadata": {
  "kernelspec": {
   "display_name": "Python 3 (ipykernel)",
   "language": "python",
   "name": "python3"
  },
  "language_info": {
   "codemirror_mode": {
    "name": "ipython",
    "version": 3
   },
   "file_extension": ".py",
   "mimetype": "text/x-python",
   "name": "python",
   "nbconvert_exporter": "python",
   "pygments_lexer": "ipython3",
   "version": "3.8.17"
  }
 },
 "nbformat": 4,
 "nbformat_minor": 5
}
