{
 "cells": [
  {
   "cell_type": "code",
   "execution_count": null,
   "id": "33abfdab",
   "metadata": {},
   "outputs": [],
   "source": [
    "!pip install git+https://github.com/openai/CLIP.git"
   ]
  },
  {
   "cell_type": "code",
   "execution_count": null,
   "id": "ac208066",
   "metadata": {},
   "outputs": [],
   "source": [
    "from dataloader_places import PlacesDataset\n",
    "from torch.utils.data import DataLoader\n",
    "# from domino._embed import embed\n",
    "import clip\n",
    "import torch\n",
    "from tqdm import tqdm\n",
    "\n",
    "idx_to_classname ={0: 'bathroom', 1: 'bedroom', 2: 'childs_room',\n",
    "                   3: 'classroom', 4: 'dressing_room', 5: 'living_room',\n",
    "                   6: 'studio', 7: \"swimming_pool\"}\n",
    "\n",
    "data_path = \"../adversarial-sets/data/Places8_paths_and_labels_complete_train.npy\"\n",
    "dataset = PlacesDataset(data_path)\n",
    "batch_size = 64\n",
    "\n",
    "dataloader = DataLoader(dataset, shuffle=True, num_workers=6, batch_size=batch_size)\n",
    "print(f\"\\nDataloader: {batch_size} batch size | {len(dataloader)} batches | {len(dataloader.dataset)} images\")\n",
    "\n",
    "print(clip.available_models())\n",
    "device = \"cuda\" if torch.cuda.is_available() else \"cpu\"\n",
    "device"
   ]
  },
  {
   "cell_type": "code",
   "execution_count": null,
   "id": "580eef42",
   "metadata": {},
   "outputs": [],
   "source": [
    "model, preprocess = clip.load(\"ViT-B/32\", device=device)\n",
    "model"
   ]
  },
  {
   "cell_type": "code",
   "execution_count": null,
   "id": "8cf35f9c",
   "metadata": {},
   "outputs": [],
   "source": [
    "preprocess"
   ]
  },
  {
   "cell_type": "code",
   "execution_count": null,
   "id": "9e613b2d",
   "metadata": {},
   "outputs": [],
   "source": [
    "image_features = []\n",
    "text_features = []\n",
    "for inputs, labels, _ in tqdm(dataloader):\n",
    "\n",
    "    text_inputs = torch.cat([clip.tokenize(\n",
    "        f\"a photo of a {idx_to_classname[label.item()]}\", truncate=True) for label in labels]).to(device)\n",
    "    # Calculate features\n",
    "    with torch.no_grad():\n",
    "        image_features.append(model.encode_image(inputs.to(device)))\n",
    "        text_features.append(model.encode_text(text_inputs))\n"
   ]
  },
  {
   "cell_type": "code",
   "execution_count": 1,
   "id": "298e4bb7",
   "metadata": {},
   "outputs": [],
   "source": [
    "import numpy as np\n",
    "\n",
    "image_features = np.asarray(image_features)\n",
    "text_features = np.asarray(text_features)\n",
    "np.save(\"places8_image_features_clip.npy\", image_features)\n",
    "np.save(\"places8_text_features_clip.npy\", text_features)"
   ]
  }
 ],
 "metadata": {
  "kernelspec": {
   "display_name": "Python 3 (ipykernel)",
   "language": "python",
   "name": "python3"
  },
  "language_info": {
   "codemirror_mode": {
    "name": "ipython",
    "version": 3
   },
   "file_extension": ".py",
   "mimetype": "text/x-python",
   "name": "python",
   "nbconvert_exporter": "python",
   "pygments_lexer": "ipython3",
   "version": "3.10.10"
  }
 },
 "nbformat": 4,
 "nbformat_minor": 5
}
