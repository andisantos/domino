{
 "cells": [
  {
   "cell_type": "code",
   "execution_count": 1,
   "id": "20f0e811",
   "metadata": {},
   "outputs": [],
   "source": [
    "import numpy as np\n",
    "import pandas as pd"
   ]
  },
  {
   "cell_type": "code",
   "execution_count": 9,
   "id": "1c70645d",
   "metadata": {},
   "outputs": [
    {
     "data": {
      "text/html": [
       "<div>\n",
       "<style scoped>\n",
       "    .dataframe tbody tr th:only-of-type {\n",
       "        vertical-align: middle;\n",
       "    }\n",
       "\n",
       "    .dataframe tbody tr th {\n",
       "        vertical-align: top;\n",
       "    }\n",
       "\n",
       "    .dataframe thead th {\n",
       "        text-align: right;\n",
       "    }\n",
       "</style>\n",
       "<table border=\"1\" class=\"dataframe\">\n",
       "  <thead>\n",
       "    <tr style=\"text-align: right;\">\n",
       "      <th></th>\n",
       "      <th>group_0</th>\n",
       "      <th>group_1</th>\n",
       "      <th>group_2</th>\n",
       "    </tr>\n",
       "  </thead>\n",
       "  <tbody>\n",
       "    <tr>\n",
       "      <th>0</th>\n",
       "      <td>1</td>\n",
       "      <td>0</td>\n",
       "      <td>0</td>\n",
       "    </tr>\n",
       "    <tr>\n",
       "      <th>1</th>\n",
       "      <td>1</td>\n",
       "      <td>0</td>\n",
       "      <td>0</td>\n",
       "    </tr>\n",
       "    <tr>\n",
       "      <th>2</th>\n",
       "      <td>0</td>\n",
       "      <td>1</td>\n",
       "      <td>0</td>\n",
       "    </tr>\n",
       "    <tr>\n",
       "      <th>3</th>\n",
       "      <td>0</td>\n",
       "      <td>1</td>\n",
       "      <td>0</td>\n",
       "    </tr>\n",
       "    <tr>\n",
       "      <th>4</th>\n",
       "      <td>1</td>\n",
       "      <td>0</td>\n",
       "      <td>0</td>\n",
       "    </tr>\n",
       "    <tr>\n",
       "      <th>...</th>\n",
       "      <td>...</td>\n",
       "      <td>...</td>\n",
       "      <td>...</td>\n",
       "    </tr>\n",
       "    <tr>\n",
       "      <th>100007</th>\n",
       "      <td>0</td>\n",
       "      <td>1</td>\n",
       "      <td>0</td>\n",
       "    </tr>\n",
       "    <tr>\n",
       "      <th>100008</th>\n",
       "      <td>0</td>\n",
       "      <td>1</td>\n",
       "      <td>0</td>\n",
       "    </tr>\n",
       "    <tr>\n",
       "      <th>100009</th>\n",
       "      <td>0</td>\n",
       "      <td>1</td>\n",
       "      <td>0</td>\n",
       "    </tr>\n",
       "    <tr>\n",
       "      <th>100010</th>\n",
       "      <td>0</td>\n",
       "      <td>1</td>\n",
       "      <td>0</td>\n",
       "    </tr>\n",
       "    <tr>\n",
       "      <th>100011</th>\n",
       "      <td>1</td>\n",
       "      <td>0</td>\n",
       "      <td>0</td>\n",
       "    </tr>\n",
       "  </tbody>\n",
       "</table>\n",
       "<p>100012 rows × 3 columns</p>\n",
       "</div>"
      ],
      "text/plain": [
       "        group_0  group_1  group_2\n",
       "0             1        0        0\n",
       "1             1        0        0\n",
       "2             0        1        0\n",
       "3             0        1        0\n",
       "4             1        0        0\n",
       "...         ...      ...      ...\n",
       "100007        0        1        0\n",
       "100008        0        1        0\n",
       "100009        0        1        0\n",
       "100010        0        1        0\n",
       "100011        1        0        0\n",
       "\n",
       "[100012 rows x 3 columns]"
      ]
     },
     "execution_count": 9,
     "metadata": {},
     "output_type": "execute_result"
    }
   ],
   "source": [
    "all_data = np.load(\"data/Places8_paths_and_labels_complete_train.npy\")\n",
    "bedroom_data = all_data[np.where(all_data=='bedroom')[0]]\n",
    "childsroom_data = all_data[np.where(all_data=='childs_room')[0]]\n",
    "df_bedroom = pd.read_csv('outputs/places8_bedroom_childs_room/class1_bedroom_3slices_otherclassessoftmax.csv', index_col=0)\n",
    "df_childsroom = pd.read_csv('outputs/places8_bedroom_childs_room/class2_childs_room_3slices_otherclassessoftmax.csv', index_col=0)\n",
    "df_bedroom"
   ]
  },
  {
   "cell_type": "code",
   "execution_count": 10,
   "id": "f944c86f",
   "metadata": {},
   "outputs": [],
   "source": [
    "group_0 = df_bedroom['group_0'].to_numpy()\n",
    "group_1 = df_bedroom['group_1'].to_numpy()\n",
    "group_2 = df_bedroom['group_2'].to_numpy()\n",
    "x_group0 = bedroom_data[np.where(group_0 == 1)[0]].tolist()\n",
    "x_group1 = bedroom_data[np.where(group_1 == 1)[0]].tolist()\n",
    "x_test = bedroom_data[np.where(group_2 == 1)[0]].tolist()\n",
    "for idx, k in enumerate(x_group0):\n",
    "    x_group0[idx] = [k[0]] + [0]\n",
    "for idx, k in enumerate(x_group1):\n",
    "    x_group1[idx] = [k[0]] + [0]\n",
    "for idx, k in enumerate(x_test):\n",
    "    x_test[idx] = [k[0]] + [0]\n"
   ]
  },
  {
   "cell_type": "code",
   "execution_count": 11,
   "id": "85fdc558",
   "metadata": {},
   "outputs": [],
   "source": [
    "group_0 = df_childsroom['group_0'].to_numpy()\n",
    "group_1 = df_childsroom['group_1'].to_numpy()\n",
    "group_2 = df_childsroom['group_2'].to_numpy()\n",
    "y_group0 = childsroom_data[np.where(group_1 == 1)[0]].tolist()\n",
    "y_group1 = childsroom_data[np.where(group_2 == 1)[0]].tolist()\n",
    "y_test = childsroom_data[np.where(group_0 == 1)[0]].tolist()\n",
    "for idx, k in enumerate(y_group0):\n",
    "    y_group0[idx] = [k[0]] + [1]\n",
    "for idx, k in enumerate(y_group1):\n",
    "    y_group1[idx] = [k[0]] + [1]\n",
    "for idx, k in enumerate(y_test):\n",
    "    y_test[idx] = [k[0]] + [1]"
   ]
  },
  {
   "cell_type": "code",
   "execution_count": 12,
   "id": "48fb27ca",
   "metadata": {},
   "outputs": [],
   "source": [
    "y_group0 = np.asarray(y_group0)\n",
    "y_group1 = np.asarray(y_group1)\n",
    "x_test = np.asarray(x_test)\n",
    "y_test = np.asarray(y_test)\n",
    "x_group0 = np.asarray(x_group0)\n",
    "x_group1 = np.asarray(x_group1)"
   ]
  },
  {
   "cell_type": "code",
   "execution_count": 13,
   "id": "3d44d398",
   "metadata": {},
   "outputs": [],
   "source": [
    "group0 = np.concatenate([x_group0, y_group0])\n",
    "group1 = np.concatenate([x_group1, y_group1])\n",
    "group_test = np.concatenate([x_test, y_test])"
   ]
  },
  {
   "cell_type": "code",
   "execution_count": 16,
   "id": "01e6c7a9",
   "metadata": {},
   "outputs": [],
   "source": [
    "np.save('outputs/places8_bedroom_childs_room/datasetDOMINO_group0_2classes.npy', group0)\n",
    "np.save('outputs/places8_bedroom_childs_room/datasetDOMINO_group1_2classes.npy', group1)\n",
    "np.save('outputs/places8_bedroom_childs_room/datasetDOMINO_test_2classes.npy', group_test)"
   ]
  }
 ],
 "metadata": {
  "kernelspec": {
   "display_name": "Python 3 (ipykernel)",
   "language": "python",
   "name": "python3"
  },
  "language_info": {
   "codemirror_mode": {
    "name": "ipython",
    "version": 3
   },
   "file_extension": ".py",
   "mimetype": "text/x-python",
   "name": "python",
   "nbconvert_exporter": "python",
   "pygments_lexer": "ipython3",
   "version": "3.8.17"
  }
 },
 "nbformat": 4,
 "nbformat_minor": 5
}
