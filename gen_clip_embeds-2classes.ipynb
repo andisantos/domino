{
 "cells": [
  {
   "cell_type": "code",
   "execution_count": null,
   "id": "ac208066",
   "metadata": {},
   "outputs": [],
   "source": [
    "from dataset_places8_2classes import PlacesDataset\n",
    "from torch.utils.data import DataLoader\n",
    "import clip\n",
    "import torch\n",
    "from tqdm import tqdm\n",
    "import os\n",
    "\n",
    "idx_to_classname ={0: 'bedroom', 1: 'childs_room'}\n",
    "n_classes = len(idx_to_classname.keys())\n",
    "print(n_classes)\n",
    "data_path = \"../adversarial-sets/data/Places8_paths_and_labels_complete_train.npy\"\n",
    "outpath = \"./outputs\"\n",
    "outpath = os.path.join(outpath, \"places8_bedroom_childs_room\")\n",
    "os.makedirs(outpath, mode=777, exist_ok=True)\n",
    "\n",
    "places_ds = [PlacesDataset(data_path,\n",
    "                           onlylabels=[k]) for k in range(n_classes)]\n",
    "batch_size = 64\n",
    "train_dataloaders_class = {k: DataLoader(places_ds[k],\n",
    "                                         batch_size=batch_size,\n",
    "                                         shuffle=False,\n",
    "                                         num_workers=8) for k in range(n_classes)}\n",
    "\n",
    "for k in range(n_classes):\n",
    "    print(f\"\\nDataloader: {batch_size} batch size | {len(train_dataloaders_class[k])} batches | {len(train_dataloaders_class[k].dataset)} images\")\n",
    "\n",
    "print(clip.available_models())\n",
    "device = \"cuda\" if torch.cuda.is_available() else \"cpu\"\n",
    "print(device)"
   ]
  },
  {
   "cell_type": "code",
   "execution_count": null,
   "id": "580eef42",
   "metadata": {},
   "outputs": [],
   "source": [
    "model, preprocess = clip.load(\"ViT-B/32\", device=device)\n",
    "print(model)"
   ]
  },
  {
   "cell_type": "code",
   "execution_count": null,
   "id": "8cf35f9c",
   "metadata": {},
   "outputs": [],
   "source": [
    "print(preprocess)"
   ]
  },
  {
   "cell_type": "code",
   "execution_count": null,
   "id": "9e613b2d",
   "metadata": {},
   "outputs": [],
   "source": [
    "for i in range(n_classes):\n",
    "    image_features = []\n",
    "    text_features = []\n",
    "    for inputs, labels, _ in tqdm(train_dataloaders_class[i]):\n",
    "        inputs = inputs.to(device)\n",
    "        text_inputs = torch.cat([clip.tokenize(\n",
    "            f\"a photo of a {idx_to_classname[label.item()]}\", truncate=True) for label in labels]).to(device)\n",
    "\n",
    "        # Calculate features\n",
    "        with torch.no_grad():\n",
    "            img_feat_batch = model.encode_image(inputs).cpu().data.numpy()\n",
    "            text_feat_batch = model.encode_text(text_inputs).cpu().data.numpy()\n",
    "            for idx, _ in enumerate(img_feat_batch):\n",
    "                image_features.append(img_feat_batch[idx].tolist())\n",
    "                text_features.append(text_feat_batch[idx].tolist())\n",
    "    \n",
    "    image_features = np.asarray(image_features)\n",
    "    text_features = np.asarray(text_features)\n",
    "    np.save(f\"{outpath}/places8_image_features_clip_class_{i}.npy\", image_features)\n",
    "    np.save(f\"{outpath}/places8_text_features_clip_class_{i}.npy\", text_features)\n"
   ]
  },
  {
   "cell_type": "code",
   "execution_count": null,
   "id": "f857ba77",
   "metadata": {},
   "outputs": [],
   "source": [
    "print(len(image_features))"
   ]
  }
 ],
 "metadata": {
  "kernelspec": {
   "display_name": "Python 3 (ipykernel)",
   "language": "python",
   "name": "python3"
  },
  "language_info": {
   "codemirror_mode": {
    "name": "ipython",
    "version": 3
   },
   "file_extension": ".py",
   "mimetype": "text/x-python",
   "name": "python",
   "nbconvert_exporter": "python",
   "pygments_lexer": "ipython3",
   "version": "3.8.17"
  }
 },
 "nbformat": 4,
 "nbformat_minor": 5
}
