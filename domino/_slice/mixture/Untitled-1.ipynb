{
 "cells": [
  {
   "cell_type": "code",
   "execution_count": 1,
   "metadata": {},
   "outputs": [],
   "source": [
    "%load_ext autoreload\n",
    "%autoreload 2"
   ]
  },
  {
   "cell_type": "code",
   "execution_count": 11,
   "metadata": {},
   "outputs": [],
   "source": [
    "import meerkat as mk\n",
    "\n",
    "import numpy as np\n",
    "dp =mk.DataPanel(\n",
    "    {\"a\": np.arange(10),\n",
    "     \"b\": np.arange(10) + 1,\n",
    "     \"c\": np.arange(10) + 2\n",
    "    }\n",
    ")"
   ]
  },
  {
   "cell_type": "code",
   "execution_count": null,
   "metadata": {},
   "outputs": [],
   "source": [
    "dp"
   ]
  },
  {
   "cell_type": "code",
   "execution_count": 2,
   "metadata": {},
   "outputs": [],
   "source": [
    "import domino\n",
    "import numpy as np\n",
    "from sklearn.datasets import make_blobs\n"
   ]
  },
  {
   "cell_type": "code",
   "execution_count": 3,
   "metadata": {},
   "outputs": [],
   "source": [
    "from domino._slice.mixture._generalized import GeneralizedMixture, GaussianVariable, CategoricalVariable"
   ]
  },
  {
   "cell_type": "code",
   "execution_count": 4,
   "metadata": {},
   "outputs": [],
   "source": [
    "mm = GeneralizedMixture(\n",
    "    n_components=5,\n",
    "    variables=[\n",
    "        GaussianVariable(name=\"x\"),\n",
    "        CategoricalVariable(name=\"y\"),\n",
    "    ]\n",
    ")"
   ]
  },
  {
   "cell_type": "code",
   "execution_count": 5,
   "metadata": {},
   "outputs": [],
   "source": [
    "length = 128\n",
    "gaussian_means = np.array(\n",
    "    [\n",
    "        [0.0, 5.0, 0.0, 0.0, 0.0],\n",
    "        [1.0, 1.0, 4.0, 0.0, 0.0],\n",
    "        [1.0, 0.0, 0.0, 5.0, 1.0],\n",
    "        [5.0, 2.0, 0.0, 1.0, 10.0],\n",
    "        [1.0, 10.0, 2.0, 2.0, 0.0],\n",
    "    ]\n",
    ")\n",
    "\n",
    "emb, clusters = make_blobs(\n",
    "    n_samples=length, centers=gaussian_means, cluster_std=1.0, random_state=42\n",
    ")\n",
    "\n",
    "targets = clusters == 1\n",
    "preds = (clusters == 1) | (clusters == 2)"
   ]
  },
  {
   "cell_type": "code",
   "execution_count": 40,
   "metadata": {},
   "outputs": [
    {
     "name": "stderr",
     "output_type": "stream",
     "text": [
      "  1%|\u001b[38;2;241;122;74m          \u001b[0m| 1/100 [00:00<00:00, 269.12it/s]\n"
     ]
    },
    {
     "data": {
      "text/plain": [
       "array([0, 1, 1, 1, 1, 1, 1, 1, 1, 1, 0, 1, 1, 1, 1, 0, 1, 1, 0, 1, 1, 1,\n",
       "       1, 1, 1, 1, 1, 1, 1, 1, 0, 1, 0, 1, 1, 1, 1, 1, 1, 0, 0, 1, 1, 1,\n",
       "       1, 1, 1, 1, 1, 1, 1, 1, 1, 1, 1, 1, 1, 1, 1, 1, 1, 0, 1, 0, 1, 1,\n",
       "       0, 1, 1, 1, 0, 0, 1, 1, 1, 0, 1, 1, 1, 1, 1, 1, 0, 1, 1, 1, 1, 0,\n",
       "       1, 1, 0, 1, 1, 1, 0, 1, 1, 0, 0, 1, 1, 0, 0, 1, 1, 0, 1, 1, 1, 1,\n",
       "       1, 1, 1, 1, 0, 1, 1, 1, 1, 1, 1, 1, 1, 1, 1, 1, 0, 1])"
      ]
     },
     "execution_count": 40,
     "metadata": {},
     "output_type": "execute_result"
    }
   ],
   "source": [
    "mm = GeneralizedMixture(\n",
    "    n_components=2,\n",
    "    variables=[\n",
    "        GaussianVariable(name=\"x\"),\n",
    "        CategoricalVariable(name=\"y\", weight=0),\n",
    "    ]\n",
    ")\n",
    "\n",
    "mm.fit(\n",
    "    x=emb,\n",
    "    y=targets\n",
    ")\n",
    "out = mm.predict(x=emb)\n",
    "out"
   ]
  },
  {
   "cell_type": "code",
   "execution_count": 41,
   "metadata": {},
   "outputs": [
    {
     "data": {
      "text/plain": [
       "array([False,  True,  True,  True,  True,  True, False,  True, False,\n",
       "        True, False, False, False,  True,  True, False, False,  True,\n",
       "       False,  True,  True,  True,  True,  True, False,  True,  True,\n",
       "        True,  True,  True, False,  True, False, False,  True,  True,\n",
       "        True, False,  True, False, False,  True, False, False,  True,\n",
       "        True,  True,  True,  True,  True,  True,  True, False,  True,\n",
       "        True,  True,  True,  True,  True, False,  True, False,  True,\n",
       "       False,  True,  True, False,  True,  True,  True, False, False,\n",
       "       False,  True, False, False,  True,  True, False,  True,  True,\n",
       "       False, False,  True, False, False,  True, False,  True,  True,\n",
       "       False,  True,  True,  True, False,  True,  True, False, False,\n",
       "        True,  True, False, False,  True,  True, False, False,  True,\n",
       "        True,  True,  True, False, False, False, False,  True, False,\n",
       "        True,  True,  True,  True, False,  True,  True, False,  True,\n",
       "       False, False])"
      ]
     },
     "execution_count": 41,
     "metadata": {},
     "output_type": "execute_result"
    }
   ],
   "source": [
    "((clusters == 1).astype(int) != out)"
   ]
  },
  {
   "cell_type": "code",
   "execution_count": 26,
   "metadata": {},
   "outputs": [
    {
     "data": {
      "text/plain": [
       "array([3, 0, 0, 0, 0, 2, 1, 4, 1, 4, 3, 1, 1, 0, 0, 3, 1, 4, 3, 4, 4, 4,\n",
       "       4, 2, 1, 2, 2, 0, 4, 0, 3, 4, 3, 1, 0, 2, 4, 1, 4, 3, 3, 2, 1, 1,\n",
       "       2, 2, 4, 2, 2, 2, 2, 0, 1, 2, 4, 2, 0, 4, 4, 1, 2, 3, 0, 3, 0, 2,\n",
       "       3, 0, 2, 0, 3, 3, 1, 2, 1, 3, 0, 0, 1, 0, 4, 1, 3, 4, 1, 1, 2, 3,\n",
       "       2, 4, 3, 0, 0, 4, 3, 2, 4, 3, 3, 0, 4, 3, 3, 4, 4, 3, 1, 0, 0, 4,\n",
       "       2, 1, 1, 1, 3, 2, 1, 2, 0, 0, 2, 1, 4, 2, 1, 0, 3, 1])"
      ]
     },
     "execution_count": 26,
     "metadata": {},
     "output_type": "execute_result"
    }
   ],
   "source": [
    "clusters"
   ]
  },
  {
   "cell_type": "code",
   "execution_count": null,
   "metadata": {},
   "outputs": [],
   "source": []
  }
 ],
 "metadata": {
  "kernelspec": {
   "display_name": "Python 3.9.12 ('mocha')",
   "language": "python",
   "name": "python3"
  },
  "language_info": {
   "codemirror_mode": {
    "name": "ipython",
    "version": 3
   },
   "file_extension": ".py",
   "mimetype": "text/x-python",
   "name": "python",
   "nbconvert_exporter": "python",
   "pygments_lexer": "ipython3",
   "version": "3.9.12"
  },
  "orig_nbformat": 4,
  "vscode": {
   "interpreter": {
    "hash": "ab4966a6dd73a04fcc98e8285f00c76d664dcdaff54b32a809fc4e8f2ebcaf04"
   }
  }
 },
 "nbformat": 4,
 "nbformat_minor": 2
}
