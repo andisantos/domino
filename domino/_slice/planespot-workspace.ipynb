{
 "cells": [
  {
   "cell_type": "markdown",
   "id": "5482c273",
   "metadata": {},
   "source": [
    "## Overview\n",
    "\n",
    "Notebook workspace for PlaneSpotSlicer.\n",
    "\n",
    "Prerequisites:\n",
    "\n",
    "* install scvis using this package: https://github.com/shahcompbio/scvis"
   ]
  },
  {
   "cell_type": "code",
   "execution_count": 1,
   "id": "532aa14a",
   "metadata": {},
   "outputs": [],
   "source": [
    "from typing import Union\n",
    "\n",
    "import meerkat as mk\n",
    "import numpy as np\n",
    "import torch\n",
    "import torch.optim as optim\n",
    "from torch.nn.functional import cross_entropy\n",
    "from tqdm import tqdm\n",
    "\n",
    "from domino.utils import unpack_args\n",
    "\n",
    "from abstract import Slicer\n",
    "from sklearn import mixture"
   ]
  },
  {
   "cell_type": "code",
   "execution_count": 2,
   "id": "910b33b9",
   "metadata": {},
   "outputs": [],
   "source": [
    "from planespot import PlaneSpotSlicer"
   ]
  },
  {
   "cell_type": "markdown",
   "id": "3ee1fe01",
   "metadata": {},
   "source": [
    "## Demo\n",
    "\n",
    "(copied from `examples/01_intro.ipynb`)"
   ]
  },
  {
   "cell_type": "code",
   "execution_count": 3,
   "id": "0b319004",
   "metadata": {},
   "outputs": [],
   "source": [
    "import os\n",
    "\n",
    "dp = mk.datasets.get(\"imagenette\")\n",
    "\n",
    "# we'll only be using the validation data\n",
    "dp = dp.lz[dp[\"split\"] == \"valid\"]"
   ]
  },
  {
   "cell_type": "code",
   "execution_count": 4,
   "id": "9a400423",
   "metadata": {},
   "outputs": [],
   "source": [
    "import torch\n",
    "from torchvision.models import resnet18\n",
    "import torchvision.transforms as transforms\n",
    "model = resnet18(pretrained=True)"
   ]
  },
  {
   "cell_type": "code",
   "execution_count": 5,
   "id": "3f5546f2",
   "metadata": {},
   "outputs": [
    {
     "data": {
      "application/vnd.jupyter.widget-view+json": {
       "model_id": "4a937da06cab469c88998b2b6846b6c4",
       "version_major": 2,
       "version_minor": 0
      },
      "text/plain": [
       "  0%|          | 0/123 [00:00<?, ?it/s]"
      ]
     },
     "metadata": {},
     "output_type": "display_data"
    }
   ],
   "source": [
    "# 1. Define transform\n",
    "transform = transforms.Compose([\n",
    "    transforms.Resize(256),\n",
    "    transforms.CenterCrop(224),\n",
    "    transforms.ToTensor(),\n",
    "    transforms.Normalize(\n",
    "        mean=[0.485, 0.456, 0.406],\n",
    "        std=[0.229, 0.224, 0.225]),\n",
    "])\n",
    "\n",
    "# 2. Create new column with transform \n",
    "dp[\"input\"] = dp[\"img\"].to_lambda(transform)\n",
    "\n",
    "# 1. Move the model to device\n",
    "DEVICE = 'cpu'\n",
    "model.to(DEVICE).eval()\n",
    "\n",
    "# 2. Define a function that runs a forward pass over a batch \n",
    "@torch.no_grad()\n",
    "def predict(batch: mk.DataPanel):\n",
    "    input_col: mk.TensorColumn = batch[\"input\"] \n",
    "    x: torch.Tensor = input_col.data.to(DEVICE)  # We get the underlying torch tensor with `data` and move to GPU \n",
    "    out: torch.Tensor = model(x)  # Run forward pass\n",
    "\n",
    "    # Return a dictionary with one key for each of the new columns. Each value in the\n",
    "    # dictionary should have the same length as the batch. \n",
    "    return {\n",
    "        \"pred\": out.cpu().numpy().argmax(axis=-1),\n",
    "        \"probs\": torch.softmax(out, axis=-1).cpu().numpy(),\n",
    "    }\n",
    "\n",
    "# 3. Apply the update. Note that the `predict` function operates on batches, so we set \n",
    "# `is_batched_fn=True`. Also, the `predict` function only accesses the \"input\" column, by \n",
    "# specifying that here we instruct update to only load that one column and skip others \n",
    "dp = dp.update(\n",
    "    function=predict,\n",
    "    is_batched_fn=True,\n",
    "    batch_size=32,\n",
    "    input_columns=[\"input\"], \n",
    "    pbar=True\n",
    ")"
   ]
  },
  {
   "cell_type": "code",
   "execution_count": 6,
   "id": "d3706b70",
   "metadata": {},
   "outputs": [
    {
     "name": "stdout",
     "output_type": "stream",
     "text": [
      "Micro accuracy across the ten Imagenette classes: 0.672\n"
     ]
    }
   ],
   "source": [
    "import hashlib\n",
    "\n",
    "import hashlib\n",
    "x = \"helo\"\n",
    "int.from_bytes(hashlib.sha256(x.encode('utf-8')).digest(), 'big') % 100\n",
    "\n",
    "dp[\"correct\"] = dp[\"pred\"] == mk.NumpyArrayColumn(dp[\"label_idx\"])\n",
    "accuracy = dp[\"correct\"].mean()\n",
    "print(f\"Micro accuracy across the ten Imagenette classes: {accuracy:0.3}\")"
   ]
  },
  {
   "cell_type": "code",
   "execution_count": 7,
   "id": "b5da562e",
   "metadata": {},
   "outputs": [],
   "source": [
    "# Choose a single ImageNet class"
   ]
  },
  {
   "cell_type": "code",
   "execution_count": 8,
   "id": "ee452a84",
   "metadata": {},
   "outputs": [],
   "source": [
    "LABEL_IDX = 482\n",
    "\n",
    "# convert to a binary task \n",
    "dp[\"prob\"] = dp[\"probs\"][:, LABEL_IDX]\n",
    "dp[\"target\"] = (dp[\"label_idx\"] == LABEL_IDX)\n",
    "\n",
    "# Drop rows that do not have the label\n",
    "dp = dp[dp['target']]"
   ]
  },
  {
   "cell_type": "markdown",
   "id": "ba26af85",
   "metadata": {},
   "source": [
    "## 1. Embed"
   ]
  },
  {
   "cell_type": "code",
   "execution_count": 9,
   "id": "ec5cc573",
   "metadata": {},
   "outputs": [],
   "source": [
    "from domino import embed"
   ]
  },
  {
   "cell_type": "code",
   "execution_count": 10,
   "id": "374cd24d",
   "metadata": {},
   "outputs": [],
   "source": [
    "class Features:\n",
    "    def __init__(self, requires_grad = None):\n",
    "        self.features = None\n",
    "        self.requires_grad = requires_grad\n",
    "        \n",
    "    def __call__(self, modules, module_in, module_out):\n",
    "        if self.requires_grad is not None:\n",
    "            module_out.requires_grad = self.requires_grad\n",
    "        self.features = module_out\n",
    "        \n",
    "# Register feature hook\n",
    "feature_hook = Features()\n",
    "handle = list(model.modules())[66].register_forward_hook(feature_hook)"
   ]
  },
  {
   "cell_type": "code",
   "execution_count": 11,
   "id": "54c9df63",
   "metadata": {},
   "outputs": [],
   "source": [
    "# Extract the last-layer embeddings from the model, and add them as the \"embedding\" column.\n",
    "\n",
    "def last_layer(batch: mk.DataPanel):\n",
    "    input_col: mk.TensorColumn = batch[\"input\"] \n",
    "    x: torch.Tensor = input_col.data.to(DEVICE)  # We get the underlying torch tensor with `data` and move to GPU \n",
    "    \n",
    "    ## add a hook to the model\n",
    "    out: torch.Tensor = model(x)  # Run forward pass\n",
    "    features: np.ndarray = feature_hook.features.data.cpu().numpy()\n",
    "\n",
    "    # Return a dictionary with one key for each of the new columns. Each value in the\n",
    "    # dictionary should have the same length as the batch. \n",
    "    return {\n",
    "        \"embedding\": features\n",
    "    }\n"
   ]
  },
  {
   "cell_type": "code",
   "execution_count": 12,
   "id": "465a3fdd",
   "metadata": {},
   "outputs": [
    {
     "data": {
      "application/vnd.jupyter.widget-view+json": {
       "model_id": "7c73347e43504a499aa1236bbc08227c",
       "version_major": 2,
       "version_minor": 0
      },
      "text/plain": [
       "  0%|          | 0/12 [00:00<?, ?it/s]"
      ]
     },
     "metadata": {},
     "output_type": "display_data"
    }
   ],
   "source": [
    "dp = dp.update(\n",
    "    function=last_layer,\n",
    "    is_batched_fn=True,\n",
    "    batch_size=32,\n",
    "    input_columns=[\"input\"], \n",
    "    pbar=True\n",
    ")"
   ]
  },
  {
   "cell_type": "markdown",
   "id": "f9aac199",
   "metadata": {},
   "source": [
    "# 2. Slice"
   ]
  },
  {
   "cell_type": "code",
   "execution_count": 13,
   "id": "55757ed2",
   "metadata": {},
   "outputs": [],
   "source": [
    "planespot = PlaneSpotSlicer(scvis_conda_env = 'scvis',\n",
    "                           fit_scvis = False,\n",
    "                           n_slices = 10)"
   ]
  },
  {
   "cell_type": "code",
   "execution_count": 14,
   "id": "18583a6e",
   "metadata": {},
   "outputs": [
    {
     "data": {
      "text/plain": [
       "0.3935749"
      ]
     },
     "execution_count": 14,
     "metadata": {},
     "output_type": "execute_result"
    }
   ],
   "source": [
    "np.mean(dp['prob'])"
   ]
  },
  {
   "cell_type": "code",
   "execution_count": 15,
   "id": "658cc65f",
   "metadata": {
    "scrolled": false
   },
   "outputs": [
    {
     "name": "stdout",
     "output_type": "stream",
     "text": [
      "Fitting scvis...\n",
      "Fitting GMM...\n",
      "The best GMM has 10 components.\n",
      "Scores:\n",
      "7 35.404101634600636 39.01764178276062 0.907387\n",
      "3 25.378756727440475 26.176830053329468 0.9695122\n",
      "9 23.054316383963048 32.56529676914215 0.70794123\n",
      "4 22.76827306532141 41.870718002319336 0.54377556\n",
      "1 12.93409457141206 16.86861228942871 0.7667551\n",
      "0 9.485209236624758 11.104400932788849 0.8541847\n",
      "5 5.414637023001433 13.568259239196777 0.39906645\n",
      "8 5.244130400129507 18.320053100585938 0.28625083\n",
      "2 4.936037900080237 9.935832023620605 0.4967916\n",
      "6 4.539095200275142 7.06611967086792 0.6423745\n",
      "\n"
     ]
    }
   ],
   "source": [
    "planespot.fit(data = dp, \n",
    "              embeddings=\"embedding\", \n",
    "              targets=\"target\", \n",
    "              pred_probs=\"prob\", \n",
    "              verbose = True, \n",
    "              random_state = 42)\n"
   ]
  },
  {
   "cell_type": "code",
   "execution_count": 16,
   "id": "2ae79ac7",
   "metadata": {},
   "outputs": [],
   "source": [
    "dp['scvis'] = planespot._load_scvis_embeddings()"
   ]
  },
  {
   "cell_type": "code",
   "execution_count": 17,
   "id": "7b9f7ad5",
   "metadata": {},
   "outputs": [],
   "source": [
    "dp[\"planespot_prbs\"] = planespot.predict_proba(\n",
    "    data=dp, scvis_embeddings = 'scvis', pred_probs = 'prob'\n",
    ")\n",
    "\n",
    "dp[\"planespot_hard\"] = planespot.predict(\n",
    "    data=dp, scvis_embeddings = 'scvis', pred_probs = 'prob'\n",
    ")"
   ]
  },
  {
   "cell_type": "code",
   "execution_count": 18,
   "id": "76b009d0",
   "metadata": {},
   "outputs": [
    {
     "data": {
      "text/html": [
       "<table border=\"1\" class=\"dataframe\">\n",
       "  <thead>\n",
       "    <tr style=\"text-align: right;\">\n",
       "      <th></th>\n",
       "      <th>img_path (PandasSeriesColumn)</th>\n",
       "      <th>label (PandasSeriesColumn)</th>\n",
       "      <th>label_id (PandasSeriesColumn)</th>\n",
       "      <th>label_idx (PandasSeriesColumn)</th>\n",
       "      <th>split (PandasSeriesColumn)</th>\n",
       "      <th>img (ListColumn)</th>\n",
       "      <th>input (TensorColumn)</th>\n",
       "      <th>pred (NumpyArrayColumn)</th>\n",
       "      <th>probs (NumpyArrayColumn)</th>\n",
       "      <th>correct (NumpyArrayColumn)</th>\n",
       "      <th>prob (NumpyArrayColumn)</th>\n",
       "      <th>target (PandasSeriesColumn)</th>\n",
       "      <th>embedding (NumpyArrayColumn)</th>\n",
       "      <th>scvis (NumpyArrayColumn)</th>\n",
       "      <th>planespot_prbs (NumpyArrayColumn)</th>\n",
       "      <th>planespot_hard (NumpyArrayColumn)</th>\n",
       "    </tr>\n",
       "  </thead>\n",
       "  <tbody>\n",
       "    <tr>\n",
       "      <th>0</th>\n",
       "      <td>val/n02979186/n02979186_8971.JPEG</td>\n",
       "      <td>cassette player</td>\n",
       "      <td>n02979186</td>\n",
       "      <td>482</td>\n",
       "      <td>valid</td>\n",
       "      <td><img src=\"data:image/jpeg;base64,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\"></td>\n",
       "      <td>torch.Tensor(shape=torch.Size([3, 224, 224]))</td>\n",
       "      <td>482</td>\n",
       "      <td>np.ndarray(shape=(1000,))</td>\n",
       "      <td>True</td>\n",
       "      <td>0.749101</td>\n",
       "      <td>True</td>\n",
       "      <td>np.ndarray(shape=(512, 1, 1))</td>\n",
       "      <td>np.ndarray(shape=(2,))</td>\n",
       "      <td>np.ndarray(shape=(10,))</td>\n",
       "      <td>7</td>\n",
       "    </tr>\n",
       "    <tr>\n",
       "      <th>1</th>\n",
       "      <td>val/n02979186/n02979186_14550.JPEG</td>\n",
       "      <td>cassette player</td>\n",
       "      <td>n02979186</td>\n",
       "      <td>482</td>\n",
       "      <td>valid</td>\n",
       "      <td><img src=\"data:image/jpeg;base64,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\"></td>\n",
       "      <td>torch.Tensor(shape=torch.Size([3, 224, 224]))</td>\n",
       "      <td>754</td>\n",
       "      <td>np.ndarray(shape=(1000,))</td>\n",
       "      <td>False</td>\n",
       "      <td>0.174081</td>\n",
       "      <td>True</td>\n",
       "      <td>np.ndarray(shape=(512, 1, 1))</td>\n",
       "      <td>np.ndarray(shape=(2,))</td>\n",
       "      <td>np.ndarray(shape=(10,))</td>\n",
       "      <td>0</td>\n",
       "    </tr>\n",
       "    <tr>\n",
       "      <th>2</th>\n",
       "      <td>val/n02979186/n02979186_11971.JPEG</td>\n",
       "      <td>cassette player</td>\n",
       "      <td>n02979186</td>\n",
       "      <td>482</td>\n",
       "      <td>valid</td>\n",
       "      <td><img src=\"data:image/jpeg;base64,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\"></td>\n",
       "      <td>torch.Tensor(shape=torch.Size([3, 224, 224]))</td>\n",
       "      <td>482</td>\n",
       "      <td>np.ndarray(shape=(1000,))</td>\n",
       "      <td>True</td>\n",
       "      <td>0.587184</td>\n",
       "      <td>True</td>\n",
       "      <td>np.ndarray(shape=(512, 1, 1))</td>\n",
       "      <td>np.ndarray(shape=(2,))</td>\n",
       "      <td>np.ndarray(shape=(10,))</td>\n",
       "      <td>2</td>\n",
       "    </tr>\n",
       "    <tr>\n",
       "      <th>3</th>\n",
       "      <td>val/n02979186/n02979186_11550.JPEG</td>\n",
       "      <td>cassette player</td>\n",
       "      <td>n02979186</td>\n",
       "      <td>482</td>\n",
       "      <td>valid</td>\n",
       "      <td><img src=\"data:image/jpeg;base64,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\"></td>\n",
       "      <td>torch.Tensor(shape=torch.Size([3, 224, 224]))</td>\n",
       "      <td>482</td>\n",
       "      <td>np.ndarray(shape=(1000,))</td>\n",
       "      <td>True</td>\n",
       "      <td>0.667686</td>\n",
       "      <td>True</td>\n",
       "      <td>np.ndarray(shape=(512, 1, 1))</td>\n",
       "      <td>np.ndarray(shape=(2,))</td>\n",
       "      <td>np.ndarray(shape=(10,))</td>\n",
       "      <td>6</td>\n",
       "    </tr>\n",
       "    <tr>\n",
       "      <th>4</th>\n",
       "      <td>val/n02979186/n02979186_8751.JPEG</td>\n",
       "      <td>cassette player</td>\n",
       "      <td>n02979186</td>\n",
       "      <td>482</td>\n",
       "      <td>valid</td>\n",
       "      <td><img src=\"data:image/jpeg;base64,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\"></td>\n",
       "      <td>torch.Tensor(shape=torch.Size([3, 224, 224]))</td>\n",
       "      <td>482</td>\n",
       "      <td>np.ndarray(shape=(1000,))</td>\n",
       "      <td>True</td>\n",
       "      <td>0.677591</td>\n",
       "      <td>True</td>\n",
       "      <td>np.ndarray(shape=(512, 1, 1))</td>\n",
       "      <td>np.ndarray(shape=(2,))</td>\n",
       "      <td>np.ndarray(shape=(10,))</td>\n",
       "      <td>6</td>\n",
       "    </tr>\n",
       "  </tbody>\n",
       "</table>"
      ],
      "text/plain": [
       "DataPanel(nrows: 5, ncols: 16)"
      ]
     },
     "execution_count": 18,
     "metadata": {},
     "output_type": "execute_result"
    }
   ],
   "source": [
    "dp.head()"
   ]
  },
  {
   "cell_type": "code",
   "execution_count": 19,
   "id": "b53cdc3f",
   "metadata": {
    "scrolled": false
   },
   "outputs": [
    {
     "data": {
      "application/vnd.jupyter.widget-view+json": {
       "model_id": "cd964d15c4cd415e87f007591455eb17",
       "version_major": 2,
       "version_minor": 0
      },
      "text/plain": [
       "HBox(children=(HTML(value='<p><strong> Domino Slice Explorer </strong></p>'), Dropdown(description='Slice', in…"
      ]
     },
     "metadata": {},
     "output_type": "display_data"
    },
    {
     "data": {
      "application/vnd.jupyter.widget-view+json": {
       "model_id": "2c7b9fea8b1a428dbe008bdd114546bb",
       "version_major": 2,
       "version_minor": 0
      },
      "text/plain": [
       "FloatSlider(value=0.5, continuous_update=False, description='Slice Inclusion Threshold', max=1.0, readout_form…"
      ]
     },
     "metadata": {},
     "output_type": "display_data"
    },
    {
     "data": {
      "application/vnd.jupyter.widget-view+json": {
       "model_id": "add93d2a53934f94ba4dc3afd6014d29",
       "version_major": 2,
       "version_minor": 0
      },
      "text/plain": [
       "Output()"
      ]
     },
     "metadata": {},
     "output_type": "display_data"
    },
    {
     "data": {
      "application/vnd.jupyter.widget-view+json": {
       "model_id": "6bcc3457da5b417ea1a1c8b72533dde0",
       "version_major": 2,
       "version_minor": 0
      },
      "text/plain": [
       "VBox(children=(HTML(value='<p> <strong> Natural language descriptions of the slice: </strong> </p>'), Output()…"
      ]
     },
     "metadata": {},
     "output_type": "display_data"
    },
    {
     "data": {
      "application/vnd.jupyter.widget-view+json": {
       "model_id": "7062452884274cc4a0552b1fe979aa8f",
       "version_major": 2,
       "version_minor": 0
      },
      "text/plain": [
       "HBox(children=(VBox(children=(HTML(value='<style>p{word-wrap: break-word}</style> <p>Select multiple columns w…"
      ]
     },
     "metadata": {},
     "output_type": "display_data"
    },
    {
     "data": {
      "application/vnd.jupyter.widget-view+json": {
       "model_id": "3cc79dd7e13c43c58933cf76ed36302c",
       "version_major": 2,
       "version_minor": 0
      },
      "text/plain": [
       "VBox(children=(HTML(value='<p> <strong>  Examples in the slice, ranked by likelihood: </strong> </p>'), Output…"
      ]
     },
     "metadata": {},
     "output_type": "display_data"
    }
   ],
   "source": [
    "from domino import explore\n",
    "\n",
    "explore(\n",
    "    data=dp[\"img_path\", \"img\", \"label\", \"prob\", \"target\", \"scvis\", \"planespot_prbs\"],\n",
    "    embeddings=\"scvis\",\n",
    "    pred_probs=\"prob\",\n",
    "    targets=\"target\",\n",
    "    slices=\"planespot_prbs\",\n",
    ") "
   ]
  },
  {
   "cell_type": "code",
   "execution_count": null,
   "id": "83c82a57",
   "metadata": {},
   "outputs": [],
   "source": []
  }
 ],
 "metadata": {
  "kernelspec": {
   "display_name": "bdm-camera",
   "language": "python",
   "name": "bdm-camera"
  },
  "language_info": {
   "codemirror_mode": {
    "name": "ipython",
    "version": 3
   },
   "file_extension": ".py",
   "mimetype": "text/x-python",
   "name": "python",
   "nbconvert_exporter": "python",
   "pygments_lexer": "ipython3",
   "version": "3.8.12"
  }
 },
 "nbformat": 4,
 "nbformat_minor": 5
}
