{
 "cells": [
  {
   "cell_type": "code",
   "execution_count": 1,
   "id": "fcb3cd3a",
   "metadata": {},
   "outputs": [
    {
     "data": {
      "text/plain": [
       "'1.3.2'"
      ]
     },
     "execution_count": 1,
     "metadata": {},
     "output_type": "execute_result"
    }
   ],
   "source": [
    "from domino import DominoSlicer\n",
    "import numpy as np\n",
    "import sklearn\n",
    "sklearn.__version__"
   ]
  },
  {
   "cell_type": "code",
   "execution_count": 2,
   "id": "9cb9995f",
   "metadata": {},
   "outputs": [
    {
     "name": "stdout",
     "output_type": "stream",
     "text": [
      "Data with all 8 classes:\n",
      "Embed shape (364806, 512) | target shape (364806,) | preds one-hot encode shapes (364806, 8)\n"
     ]
    }
   ],
   "source": [
    "places8_clip_emd = \"places8_image_features_clip.npy\"\n",
    "places8_image_preds = \"places8_image_preds_1hot.npy\"\n",
    "places8_targets = \"places8_image_targets.npy\"\n",
    "clip_emb = np.load(places8_clip_emd)\n",
    "image_1hot_preds = np.load(places8_image_preds)\n",
    "places8_targets = np.load(places8_targets)\n",
    "\n",
    "# indexes_1 = np.where(places8_targets==1)\n",
    "# clip_emb_1 = clip_emb[indexes_1]\n",
    "# image_1hot_preds_1 = image_1hot_preds[indexes_1]\n",
    "# places8_targets_1 = places8_targets[indexes_1]\n",
    "# print(\"Only one class:\")\n",
    "# print(f\"Embed shape {clip_emb_1.shape} | target shape {places8_targets_1.shape} | preds 1hot encode {image_1hot_preds_1.shape}\")\n",
    "print(\"Data with all 8 classes:\")\n",
    "print(f\"Embed shape {clip_emb.shape} | target shape {places8_targets.shape} | preds one-hot encode shapes {image_1hot_preds.shape}\")"
   ]
  },
  {
   "cell_type": "code",
   "execution_count": 3,
   "id": "88447562",
   "metadata": {},
   "outputs": [],
   "source": [
    "for i in image_1hot_preds:\n",
    "    if np.count_nonzero(i) != 1:\n",
    "        print(\"erro\")"
   ]
  },
  {
   "cell_type": "code",
   "execution_count": 4,
   "id": "dcd7a8aa",
   "metadata": {},
   "outputs": [
    {
     "data": {
      "text/plain": [
       "(array([0, 1, 2, 3, 4, 5, 6, 7]),\n",
       " array([ 51655, 100012,  41849,  33763,  21889,  89458,  12633,  13547]))"
      ]
     },
     "execution_count": 4,
     "metadata": {},
     "output_type": "execute_result"
    }
   ],
   "source": [
    "np.unique(places8_targets, return_counts=True)"
   ]
  },
  {
   "cell_type": "code",
   "execution_count": 5,
   "id": "47d9def0",
   "metadata": {},
   "outputs": [
    {
     "data": {
      "text/plain": [
       "(dtype('int8'), (364806, 8))"
      ]
     },
     "execution_count": 5,
     "metadata": {},
     "output_type": "execute_result"
    }
   ],
   "source": [
    "image_1hot_preds= image_1hot_preds.astype('int8')\n",
    "image_1hot_preds.dtype, image_1hot_preds.shape"
   ]
  },
  {
   "cell_type": "code",
   "execution_count": 6,
   "id": "4270b7da",
   "metadata": {},
   "outputs": [],
   "source": [
    "slicer = DominoSlicer(\n",
    "    y_log_likelihood_weight=40,\n",
    "    y_hat_log_likelihood_weight=40,\n",
    "    n_mixture_components=65,\n",
    "    n_slices=5)"
   ]
  },
  {
   "cell_type": "code",
   "execution_count": 7,
   "id": "7107a2bb",
   "metadata": {},
   "outputs": [
    {
     "data": {
      "text/plain": [
       "{'n_slices': 5,\n",
       " 'covariance_type': 'diag',\n",
       " 'n_pca_components': 128,\n",
       " 'n_mixture_components': 65,\n",
       " 'init_params': 'kmeans',\n",
       " 'confusion_noise': 0.001,\n",
       " 'y_log_likelihood_weight': 40,\n",
       " 'y_hat_log_likelihood_weight': 40,\n",
       " 'max_iter': 100,\n",
       " 'random_state': None}"
      ]
     },
     "execution_count": 7,
     "metadata": {},
     "output_type": "execute_result"
    }
   ],
   "source": [
    "slicer.get_params()"
   ]
  },
  {
   "cell_type": "code",
   "execution_count": 8,
   "id": "aa9d55dc",
   "metadata": {},
   "outputs": [
    {
     "name": "stderr",
     "output_type": "stream",
     "text": [
      " 28%|████████████████████████████████████████████████▋                                                                                                                             | 28/100 [01:38<04:14,  3.53s/it]\n"
     ]
    }
   ],
   "source": [
    "_ = slicer.fit(embeddings = clip_emb, targets = places8_targets, pred_probs = image_1hot_preds)"
   ]
  },
  {
   "cell_type": "code",
   "execution_count": 9,
   "id": "07db2813",
   "metadata": {},
   "outputs": [],
   "source": [
    "predict = slicer.predict(embeddings= clip_emb, targets = places8_targets, pred_probs = image_1hot_preds)"
   ]
  },
  {
   "cell_type": "code",
   "execution_count": 10,
   "id": "c3ae02e0",
   "metadata": {},
   "outputs": [
    {
     "data": {
      "text/plain": [
       "array([[1, 0, 0, 0, 0],\n",
       "       [1, 0, 0, 0, 0],\n",
       "       [1, 0, 0, 0, 0],\n",
       "       ...,\n",
       "       [1, 0, 0, 0, 0],\n",
       "       [1, 0, 0, 0, 0],\n",
       "       [1, 0, 0, 0, 0]], dtype=int32)"
      ]
     },
     "execution_count": 10,
     "metadata": {},
     "output_type": "execute_result"
    }
   ],
   "source": [
    "predict"
   ]
  },
  {
   "cell_type": "code",
   "execution_count": 11,
   "id": "1a4cc2ce",
   "metadata": {},
   "outputs": [
    {
     "data": {
      "text/plain": [
       "(array([0, 1, 2, 3, 4]), array([349132,   7327,   4516,    595,   3236]))"
      ]
     },
     "execution_count": 11,
     "metadata": {},
     "output_type": "execute_result"
    }
   ],
   "source": [
    "np.unique(np.argmax(predict, axis=-1), return_counts=True)"
   ]
  },
  {
   "cell_type": "code",
   "execution_count": 12,
   "id": "1fb42936",
   "metadata": {},
   "outputs": [
    {
     "data": {
      "text/plain": [
       "(array([0, 1, 2, 3, 4, 5, 6, 7]),\n",
       " array([ 51655, 100012,  41849,  33763,  21889,  89458,  12633,  13547]))"
      ]
     },
     "execution_count": 12,
     "metadata": {},
     "output_type": "execute_result"
    }
   ],
   "source": [
    "np.unique(places8_targets, return_counts=True)"
   ]
  },
  {
   "cell_type": "code",
   "execution_count": 13,
   "id": "cfea2ef7",
   "metadata": {},
   "outputs": [],
   "source": [
    "#executar por classe"
   ]
  },
  {
   "cell_type": "code",
   "execution_count": null,
   "id": "b49c1bda",
   "metadata": {},
   "outputs": [],
   "source": []
  },
  {
   "cell_type": "code",
   "execution_count": null,
   "id": "152b5568",
   "metadata": {},
   "outputs": [],
   "source": []
  },
  {
   "cell_type": "code",
   "execution_count": null,
   "id": "bbd4e40e",
   "metadata": {},
   "outputs": [],
   "source": []
  },
  {
   "cell_type": "code",
   "execution_count": 14,
   "id": "7464b287",
   "metadata": {},
   "outputs": [
    {
     "data": {
      "text/plain": [
       "array([0, 0, 0, ..., 1, 1, 1])"
      ]
     },
     "execution_count": 14,
     "metadata": {},
     "output_type": "execute_result"
    }
   ],
   "source": [
    "image_1hot_as_class_idxs = np.argmax(image_1hot_preds, axis=1)\n",
    "image_1hot_as_class_idxs"
   ]
  },
  {
   "cell_type": "code",
   "execution_count": 15,
   "id": "3bca14a8",
   "metadata": {},
   "outputs": [
    {
     "data": {
      "text/plain": [
       "(array([0, 1, 2, 3, 4, 5, 6, 7]),\n",
       " array([ 53052, 110713,  48566,  24107,  16269,  79675,  17798,  14626]))"
      ]
     },
     "execution_count": 15,
     "metadata": {},
     "output_type": "execute_result"
    }
   ],
   "source": [
    "np.unique(image_1hot_as_class_idxs, return_counts=True)"
   ]
  },
  {
   "cell_type": "code",
   "execution_count": 17,
   "id": "b596f54e",
   "metadata": {},
   "outputs": [],
   "source": [
    "slicer2 = DominoSlicer(\n",
    "    y_log_likelihood_weight=40,\n",
    "    y_hat_log_likelihood_weight=40,\n",
    "    n_mixture_components=65,\n",
    "    n_slices=5)"
   ]
  },
  {
   "cell_type": "code",
   "execution_count": 18,
   "id": "2d49dbc6",
   "metadata": {},
   "outputs": [
    {
     "name": "stderr",
     "output_type": "stream",
     "text": [
      " 32%|███████████████████████████████████████████████████████▋                                                                                                                      | 32/100 [01:57<04:09,  3.66s/it]\n"
     ]
    }
   ],
   "source": [
    "_ = slicer2.fit(embeddings = clip_emb,\n",
    "                targets = places8_targets,\n",
    "                pred_probs = image_1hot_as_class_idxs)"
   ]
  },
  {
   "cell_type": "code",
   "execution_count": 19,
   "id": "d0a6a227",
   "metadata": {},
   "outputs": [],
   "source": [
    "predict2 = slicer2.predict(embeddings = clip_emb,\n",
    "                           targets = places8_targets,\n",
    "                           pred_probs = image_1hot_as_class_idxs)"
   ]
  },
  {
   "cell_type": "code",
   "execution_count": 20,
   "id": "9e0d527f",
   "metadata": {},
   "outputs": [
    {
     "data": {
      "text/plain": [
       "array([[1, 0, 0, 0, 0],\n",
       "       [1, 0, 0, 0, 0],\n",
       "       [1, 0, 0, 0, 0],\n",
       "       ...,\n",
       "       [1, 0, 0, 0, 0],\n",
       "       [1, 0, 0, 0, 0],\n",
       "       [1, 0, 0, 0, 0]], dtype=int32)"
      ]
     },
     "execution_count": 20,
     "metadata": {},
     "output_type": "execute_result"
    }
   ],
   "source": [
    "predict2"
   ]
  },
  {
   "cell_type": "code",
   "execution_count": 21,
   "id": "498bbb46",
   "metadata": {},
   "outputs": [
    {
     "data": {
      "text/plain": [
       "(array([0, 1, 2, 3, 4]), array([351865,   1986,    686,   8220,   2049]))"
      ]
     },
     "execution_count": 21,
     "metadata": {},
     "output_type": "execute_result"
    }
   ],
   "source": [
    "np.unique(np.argmax(predict2, axis=-1), return_counts=True)"
   ]
  }
 ],
 "metadata": {
  "kernelspec": {
   "display_name": "Python 3 (ipykernel)",
   "language": "python",
   "name": "python3"
  },
  "language_info": {
   "codemirror_mode": {
    "name": "ipython",
    "version": 3
   },
   "file_extension": ".py",
   "mimetype": "text/x-python",
   "name": "python",
   "nbconvert_exporter": "python",
   "pygments_lexer": "ipython3",
   "version": "3.8.17"
  }
 },
 "nbformat": 4,
 "nbformat_minor": 5
}
